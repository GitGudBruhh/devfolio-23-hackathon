{
 "cells": [
  {
   "cell_type": "code",
   "execution_count": 16,
   "id": "7b00cf9e-7322-4f0f-82b0-0f53a8204db3",
   "metadata": {},
   "outputs": [],
   "source": [
    "import numpy as np\n",
    "import pandas as pd\n",
    "from getpass import getpass\n",
    "import imaplib\n",
    "import email\n",
    "from email.header import decode_header\n",
    "import time\n",
    "from datetime import date, timedelta\n",
    "import re"
   ]
  },
  {
   "cell_type": "code",
   "execution_count": 17,
   "id": "73fa3776-3276-4156-bd4e-24d57ad77902",
   "metadata": {},
   "outputs": [],
   "source": [
    "class Emails:\n",
    "    def __init__(self, email_address, password):\n",
    "        self.imap = imaplib.IMAP4_SSL(\"imap.gmail.com\")\n",
    "        self.email_address = email_address\n",
    "        response_code, response_message = self.imap.login(email_address, password)\n",
    "\n",
    "        if response_code == \"OK\":\n",
    "            print(\"Login successful\")\n",
    "        else:\n",
    "            print(\"Login failed:\", response_message)\n",
    "\n",
    "    def mail_box(self, mailbox_name):\n",
    "        self.mailbox = mailbox_name\n",
    "        status, message_data = self.imap.select(mailbox_name)\n",
    "        \n",
    "        if status == \"OK\":\n",
    "            print(f\"Mailbox {mailbox_name} selected successfully\")\n",
    "            # print(f\"Total message in {mailbox_name}: {message_data[0].decode()}\")\n",
    "        else:\n",
    "            print(f\"Mailbox selection failed. Status: {status}\")\n",
    "\n",
    "    def fetch(self):\n",
    "        ref_date = date.today() - timedelta(days=30)\n",
    "        months = {'Jan':1, 'Feb':2, 'Mar':3, 'Apr':4, 'May':5, 'Jun':6, \n",
    "                  'Jul':7, 'Aug':8, 'Sep':9, 'Oct':10, 'Nov':11, 'Dec':12}\n",
    "        data = {\"date\":[], \"sender\": [], \"subject\": []}\n",
    "        \n",
    "        status, email_ids = self.imap.search(None, \"ALL\")\n",
    "        email_ids = email_ids[0].split()\n",
    "        count = 0\n",
    "        \n",
    "        for i in range(len(email_ids)):\n",
    "            status, email_data = self.imap.fetch(email_ids[-i], \"(RFC822)\")\n",
    "\n",
    "            raw_email = email_data[0][1]\n",
    "            email_message = email.message_from_bytes(raw_email)\n",
    "\n",
    "            subject = email_message[\"subject\"]\n",
    "            sender = email_message[\"from\"]\n",
    "            date_data = email_message[\"date\"]\n",
    "            \n",
    "            date_lst = date_data[5:16].split()\n",
    "            if date_lst[0][0] == '0':\n",
    "                date_lst[0] = date_lst[0][1]\n",
    "\n",
    "            \n",
    "            if date(int(date_lst[2]), months[date_lst[1]], int(date_lst[0])) < ref_date:\n",
    "                count += 1\n",
    "                # print(count)\n",
    "                if count > 10:\n",
    "                    break\n",
    "                continue\n",
    "            if sender.find('<') != -1:\n",
    "                sender = sender[:sender.find('<')]\n",
    "            # print(date_lst)\n",
    "\n",
    "            data[\"date\"].append(date(int(date_lst[2]), months[date_lst[1]], int(date_lst[0])))\n",
    "            data[\"sender\"].append(sender)\n",
    "            data[\"subject\"].append(subject)\n",
    "            \n",
    "        return pd.DataFrame(data)\n",
    "            "
   ]
  },
  {
   "cell_type": "code",
   "execution_count": 18,
   "id": "27b7c2fd-395b-4813-ab73-77917c25489f",
   "metadata": {
    "scrolled": true
   },
   "outputs": [
    {
     "name": "stdout",
     "output_type": "stream",
     "text": [
      "Login successful\n"
     ]
    }
   ],
   "source": [
    "\n",
    "server_conn = Emails('225100003@iitdh.ac.in', '22167380123')"
   ]
  },
  {
   "cell_type": "code",
   "execution_count": 19,
   "id": "b46a548f-a112-4958-8034-4d0f761dc158",
   "metadata": {
    "scrolled": true
   },
   "outputs": [
    {
     "name": "stdout",
     "output_type": "stream",
     "text": [
      "Mailbox INBOX selected successfully\n"
     ]
    },
    {
     "ename": "KeyboardInterrupt",
     "evalue": "",
     "output_type": "error",
     "traceback": [
      "\u001b[0;31m---------------------------------------------------------------------------\u001b[0m",
      "\u001b[0;31mKeyboardInterrupt\u001b[0m                         Traceback (most recent call last)",
      "Cell \u001b[0;32mIn[19], line 2\u001b[0m\n\u001b[1;32m      1\u001b[0m server_conn\u001b[38;5;241m.\u001b[39mmail_box(\u001b[38;5;124m\"\u001b[39m\u001b[38;5;124mINBOX\u001b[39m\u001b[38;5;124m\"\u001b[39m)\n\u001b[0;32m----> 2\u001b[0m df \u001b[38;5;241m=\u001b[39m \u001b[43mserver_conn\u001b[49m\u001b[38;5;241;43m.\u001b[39;49m\u001b[43mfetch\u001b[49m\u001b[43m(\u001b[49m\u001b[43m)\u001b[49m\n",
      "Cell \u001b[0;32mIn[17], line 33\u001b[0m, in \u001b[0;36mEmails.fetch\u001b[0;34m(self)\u001b[0m\n\u001b[1;32m     30\u001b[0m count \u001b[38;5;241m=\u001b[39m \u001b[38;5;241m0\u001b[39m\n\u001b[1;32m     32\u001b[0m \u001b[38;5;28;01mfor\u001b[39;00m i \u001b[38;5;129;01min\u001b[39;00m \u001b[38;5;28mrange\u001b[39m(\u001b[38;5;28mlen\u001b[39m(email_ids)):\n\u001b[0;32m---> 33\u001b[0m     status, email_data \u001b[38;5;241m=\u001b[39m \u001b[38;5;28;43mself\u001b[39;49m\u001b[38;5;241;43m.\u001b[39;49m\u001b[43mimap\u001b[49m\u001b[38;5;241;43m.\u001b[39;49m\u001b[43mfetch\u001b[49m\u001b[43m(\u001b[49m\u001b[43memail_ids\u001b[49m\u001b[43m[\u001b[49m\u001b[38;5;241;43m-\u001b[39;49m\u001b[43mi\u001b[49m\u001b[43m]\u001b[49m\u001b[43m,\u001b[49m\u001b[43m \u001b[49m\u001b[38;5;124;43m\"\u001b[39;49m\u001b[38;5;124;43m(RFC822)\u001b[39;49m\u001b[38;5;124;43m\"\u001b[39;49m\u001b[43m)\u001b[49m\n\u001b[1;32m     35\u001b[0m     raw_email \u001b[38;5;241m=\u001b[39m email_data[\u001b[38;5;241m0\u001b[39m][\u001b[38;5;241m1\u001b[39m]\n\u001b[1;32m     36\u001b[0m     email_message \u001b[38;5;241m=\u001b[39m email\u001b[38;5;241m.\u001b[39mmessage_from_bytes(raw_email)\n",
      "File \u001b[0;32m/usr/lib/python3.10/imaplib.py:548\u001b[0m, in \u001b[0;36mIMAP4.fetch\u001b[0;34m(self, message_set, message_parts)\u001b[0m\n\u001b[1;32m    538\u001b[0m \u001b[38;5;250m\u001b[39m\u001b[38;5;124;03m\"\"\"Fetch (parts of) messages.\u001b[39;00m\n\u001b[1;32m    539\u001b[0m \n\u001b[1;32m    540\u001b[0m \u001b[38;5;124;03m(typ, [data, ...]) = <instance>.fetch(message_set, message_parts)\u001b[39;00m\n\u001b[0;32m   (...)\u001b[0m\n\u001b[1;32m    545\u001b[0m \u001b[38;5;124;03m'data' are tuples of message part envelope and data.\u001b[39;00m\n\u001b[1;32m    546\u001b[0m \u001b[38;5;124;03m\"\"\"\u001b[39;00m\n\u001b[1;32m    547\u001b[0m name \u001b[38;5;241m=\u001b[39m \u001b[38;5;124m'\u001b[39m\u001b[38;5;124mFETCH\u001b[39m\u001b[38;5;124m'\u001b[39m\n\u001b[0;32m--> 548\u001b[0m typ, dat \u001b[38;5;241m=\u001b[39m \u001b[38;5;28;43mself\u001b[39;49m\u001b[38;5;241;43m.\u001b[39;49m\u001b[43m_simple_command\u001b[49m\u001b[43m(\u001b[49m\u001b[43mname\u001b[49m\u001b[43m,\u001b[49m\u001b[43m \u001b[49m\u001b[43mmessage_set\u001b[49m\u001b[43m,\u001b[49m\u001b[43m \u001b[49m\u001b[43mmessage_parts\u001b[49m\u001b[43m)\u001b[49m\n\u001b[1;32m    549\u001b[0m \u001b[38;5;28;01mreturn\u001b[39;00m \u001b[38;5;28mself\u001b[39m\u001b[38;5;241m.\u001b[39m_untagged_response(typ, dat, name)\n",
      "File \u001b[0;32m/usr/lib/python3.10/imaplib.py:1230\u001b[0m, in \u001b[0;36mIMAP4._simple_command\u001b[0;34m(self, name, *args)\u001b[0m\n\u001b[1;32m   1228\u001b[0m \u001b[38;5;28;01mdef\u001b[39;00m \u001b[38;5;21m_simple_command\u001b[39m(\u001b[38;5;28mself\u001b[39m, name, \u001b[38;5;241m*\u001b[39margs):\n\u001b[0;32m-> 1230\u001b[0m     \u001b[38;5;28;01mreturn\u001b[39;00m \u001b[38;5;28;43mself\u001b[39;49m\u001b[38;5;241;43m.\u001b[39;49m\u001b[43m_command_complete\u001b[49m\u001b[43m(\u001b[49m\u001b[43mname\u001b[49m\u001b[43m,\u001b[49m\u001b[43m \u001b[49m\u001b[38;5;28;43mself\u001b[39;49m\u001b[38;5;241;43m.\u001b[39;49m\u001b[43m_command\u001b[49m\u001b[43m(\u001b[49m\u001b[43mname\u001b[49m\u001b[43m,\u001b[49m\u001b[43m \u001b[49m\u001b[38;5;241;43m*\u001b[39;49m\u001b[43margs\u001b[49m\u001b[43m)\u001b[49m\u001b[43m)\u001b[49m\n",
      "File \u001b[0;32m/usr/lib/python3.10/imaplib.py:1047\u001b[0m, in \u001b[0;36mIMAP4._command_complete\u001b[0;34m(self, name, tag)\u001b[0m\n\u001b[1;32m   1045\u001b[0m     \u001b[38;5;28mself\u001b[39m\u001b[38;5;241m.\u001b[39m_check_bye()\n\u001b[1;32m   1046\u001b[0m \u001b[38;5;28;01mtry\u001b[39;00m:\n\u001b[0;32m-> 1047\u001b[0m     typ, data \u001b[38;5;241m=\u001b[39m \u001b[38;5;28;43mself\u001b[39;49m\u001b[38;5;241;43m.\u001b[39;49m\u001b[43m_get_tagged_response\u001b[49m\u001b[43m(\u001b[49m\u001b[43mtag\u001b[49m\u001b[43m,\u001b[49m\u001b[43m \u001b[49m\u001b[43mexpect_bye\u001b[49m\u001b[38;5;241;43m=\u001b[39;49m\u001b[43mlogout\u001b[49m\u001b[43m)\u001b[49m\n\u001b[1;32m   1048\u001b[0m \u001b[38;5;28;01mexcept\u001b[39;00m \u001b[38;5;28mself\u001b[39m\u001b[38;5;241m.\u001b[39mabort \u001b[38;5;28;01mas\u001b[39;00m val:\n\u001b[1;32m   1049\u001b[0m     \u001b[38;5;28;01mraise\u001b[39;00m \u001b[38;5;28mself\u001b[39m\u001b[38;5;241m.\u001b[39mabort(\u001b[38;5;124m'\u001b[39m\u001b[38;5;124mcommand: \u001b[39m\u001b[38;5;132;01m%s\u001b[39;00m\u001b[38;5;124m => \u001b[39m\u001b[38;5;132;01m%s\u001b[39;00m\u001b[38;5;124m'\u001b[39m \u001b[38;5;241m%\u001b[39m (name, val))\n",
      "File \u001b[0;32m/usr/lib/python3.10/imaplib.py:1173\u001b[0m, in \u001b[0;36mIMAP4._get_tagged_response\u001b[0;34m(self, tag, expect_bye)\u001b[0m\n\u001b[1;32m   1167\u001b[0m \u001b[38;5;66;03m# Some have reported \"unexpected response\" exceptions.\u001b[39;00m\n\u001b[1;32m   1168\u001b[0m \u001b[38;5;66;03m# Note that ignoring them here causes loops.\u001b[39;00m\n\u001b[1;32m   1169\u001b[0m \u001b[38;5;66;03m# Instead, send me details of the unexpected response and\u001b[39;00m\n\u001b[1;32m   1170\u001b[0m \u001b[38;5;66;03m# I'll update the code in `_get_response()'.\u001b[39;00m\n\u001b[1;32m   1172\u001b[0m \u001b[38;5;28;01mtry\u001b[39;00m:\n\u001b[0;32m-> 1173\u001b[0m     \u001b[38;5;28;43mself\u001b[39;49m\u001b[38;5;241;43m.\u001b[39;49m\u001b[43m_get_response\u001b[49m\u001b[43m(\u001b[49m\u001b[43m)\u001b[49m\n\u001b[1;32m   1174\u001b[0m \u001b[38;5;28;01mexcept\u001b[39;00m \u001b[38;5;28mself\u001b[39m\u001b[38;5;241m.\u001b[39mabort \u001b[38;5;28;01mas\u001b[39;00m val:\n\u001b[1;32m   1175\u001b[0m     \u001b[38;5;28;01mif\u001b[39;00m __debug__:\n",
      "File \u001b[0;32m/usr/lib/python3.10/imaplib.py:1122\u001b[0m, in \u001b[0;36mIMAP4._get_response\u001b[0;34m(self)\u001b[0m\n\u001b[1;32m   1120\u001b[0m     \u001b[38;5;28;01mif\u001b[39;00m \u001b[38;5;28mself\u001b[39m\u001b[38;5;241m.\u001b[39mdebug \u001b[38;5;241m>\u001b[39m\u001b[38;5;241m=\u001b[39m \u001b[38;5;241m4\u001b[39m:\n\u001b[1;32m   1121\u001b[0m         \u001b[38;5;28mself\u001b[39m\u001b[38;5;241m.\u001b[39m_mesg(\u001b[38;5;124m'\u001b[39m\u001b[38;5;124mread literal size \u001b[39m\u001b[38;5;132;01m%s\u001b[39;00m\u001b[38;5;124m'\u001b[39m \u001b[38;5;241m%\u001b[39m size)\n\u001b[0;32m-> 1122\u001b[0m data \u001b[38;5;241m=\u001b[39m \u001b[38;5;28;43mself\u001b[39;49m\u001b[38;5;241;43m.\u001b[39;49m\u001b[43mread\u001b[49m\u001b[43m(\u001b[49m\u001b[43msize\u001b[49m\u001b[43m)\u001b[49m\n\u001b[1;32m   1124\u001b[0m \u001b[38;5;66;03m# Store response with literal as tuple\u001b[39;00m\n\u001b[1;32m   1126\u001b[0m \u001b[38;5;28mself\u001b[39m\u001b[38;5;241m.\u001b[39m_append_untagged(typ, (dat, data))\n",
      "File \u001b[0;32m/usr/lib/python3.10/imaplib.py:318\u001b[0m, in \u001b[0;36mIMAP4.read\u001b[0;34m(self, size)\u001b[0m\n\u001b[1;32m    316\u001b[0m \u001b[38;5;28;01mdef\u001b[39;00m \u001b[38;5;21mread\u001b[39m(\u001b[38;5;28mself\u001b[39m, size):\n\u001b[1;32m    317\u001b[0m \u001b[38;5;250m    \u001b[39m\u001b[38;5;124;03m\"\"\"Read 'size' bytes from remote.\"\"\"\u001b[39;00m\n\u001b[0;32m--> 318\u001b[0m     \u001b[38;5;28;01mreturn\u001b[39;00m \u001b[38;5;28;43mself\u001b[39;49m\u001b[38;5;241;43m.\u001b[39;49m\u001b[43mfile\u001b[49m\u001b[38;5;241;43m.\u001b[39;49m\u001b[43mread\u001b[49m\u001b[43m(\u001b[49m\u001b[43msize\u001b[49m\u001b[43m)\u001b[49m\n",
      "File \u001b[0;32m/usr/lib/python3.10/socket.py:705\u001b[0m, in \u001b[0;36mSocketIO.readinto\u001b[0;34m(self, b)\u001b[0m\n\u001b[1;32m    703\u001b[0m \u001b[38;5;28;01mwhile\u001b[39;00m \u001b[38;5;28;01mTrue\u001b[39;00m:\n\u001b[1;32m    704\u001b[0m     \u001b[38;5;28;01mtry\u001b[39;00m:\n\u001b[0;32m--> 705\u001b[0m         \u001b[38;5;28;01mreturn\u001b[39;00m \u001b[38;5;28;43mself\u001b[39;49m\u001b[38;5;241;43m.\u001b[39;49m\u001b[43m_sock\u001b[49m\u001b[38;5;241;43m.\u001b[39;49m\u001b[43mrecv_into\u001b[49m\u001b[43m(\u001b[49m\u001b[43mb\u001b[49m\u001b[43m)\u001b[49m\n\u001b[1;32m    706\u001b[0m     \u001b[38;5;28;01mexcept\u001b[39;00m timeout:\n\u001b[1;32m    707\u001b[0m         \u001b[38;5;28mself\u001b[39m\u001b[38;5;241m.\u001b[39m_timeout_occurred \u001b[38;5;241m=\u001b[39m \u001b[38;5;28;01mTrue\u001b[39;00m\n",
      "File \u001b[0;32m/usr/lib/python3.10/ssl.py:1274\u001b[0m, in \u001b[0;36mSSLSocket.recv_into\u001b[0;34m(self, buffer, nbytes, flags)\u001b[0m\n\u001b[1;32m   1270\u001b[0m     \u001b[38;5;28;01mif\u001b[39;00m flags \u001b[38;5;241m!=\u001b[39m \u001b[38;5;241m0\u001b[39m:\n\u001b[1;32m   1271\u001b[0m         \u001b[38;5;28;01mraise\u001b[39;00m \u001b[38;5;167;01mValueError\u001b[39;00m(\n\u001b[1;32m   1272\u001b[0m           \u001b[38;5;124m\"\u001b[39m\u001b[38;5;124mnon-zero flags not allowed in calls to recv_into() on \u001b[39m\u001b[38;5;132;01m%s\u001b[39;00m\u001b[38;5;124m\"\u001b[39m \u001b[38;5;241m%\u001b[39m\n\u001b[1;32m   1273\u001b[0m           \u001b[38;5;28mself\u001b[39m\u001b[38;5;241m.\u001b[39m\u001b[38;5;18m__class__\u001b[39m)\n\u001b[0;32m-> 1274\u001b[0m     \u001b[38;5;28;01mreturn\u001b[39;00m \u001b[38;5;28;43mself\u001b[39;49m\u001b[38;5;241;43m.\u001b[39;49m\u001b[43mread\u001b[49m\u001b[43m(\u001b[49m\u001b[43mnbytes\u001b[49m\u001b[43m,\u001b[49m\u001b[43m \u001b[49m\u001b[43mbuffer\u001b[49m\u001b[43m)\u001b[49m\n\u001b[1;32m   1275\u001b[0m \u001b[38;5;28;01melse\u001b[39;00m:\n\u001b[1;32m   1276\u001b[0m     \u001b[38;5;28;01mreturn\u001b[39;00m \u001b[38;5;28msuper\u001b[39m()\u001b[38;5;241m.\u001b[39mrecv_into(buffer, nbytes, flags)\n",
      "File \u001b[0;32m/usr/lib/python3.10/ssl.py:1130\u001b[0m, in \u001b[0;36mSSLSocket.read\u001b[0;34m(self, len, buffer)\u001b[0m\n\u001b[1;32m   1128\u001b[0m \u001b[38;5;28;01mtry\u001b[39;00m:\n\u001b[1;32m   1129\u001b[0m     \u001b[38;5;28;01mif\u001b[39;00m buffer \u001b[38;5;129;01mis\u001b[39;00m \u001b[38;5;129;01mnot\u001b[39;00m \u001b[38;5;28;01mNone\u001b[39;00m:\n\u001b[0;32m-> 1130\u001b[0m         \u001b[38;5;28;01mreturn\u001b[39;00m \u001b[38;5;28;43mself\u001b[39;49m\u001b[38;5;241;43m.\u001b[39;49m\u001b[43m_sslobj\u001b[49m\u001b[38;5;241;43m.\u001b[39;49m\u001b[43mread\u001b[49m\u001b[43m(\u001b[49m\u001b[38;5;28;43mlen\u001b[39;49m\u001b[43m,\u001b[49m\u001b[43m \u001b[49m\u001b[43mbuffer\u001b[49m\u001b[43m)\u001b[49m\n\u001b[1;32m   1131\u001b[0m     \u001b[38;5;28;01melse\u001b[39;00m:\n\u001b[1;32m   1132\u001b[0m         \u001b[38;5;28;01mreturn\u001b[39;00m \u001b[38;5;28mself\u001b[39m\u001b[38;5;241m.\u001b[39m_sslobj\u001b[38;5;241m.\u001b[39mread(\u001b[38;5;28mlen\u001b[39m)\n",
      "\u001b[0;31mKeyboardInterrupt\u001b[0m: "
     ]
    }
   ],
   "source": [
    "server_conn.mail_box(\"INBOX\")\n",
    "df = server_conn.fetch()"
   ]
  },
  {
   "cell_type": "code",
   "execution_count": null,
   "id": "e28d32ef-0ab5-47c8-adf8-28be80ef9399",
   "metadata": {},
   "outputs": [],
   "source": [
    "word = \"Seminar\"\n",
    "df[df.subject.str.contains(fr'\\b{re.escape(word)}\\b', case=False)]"
   ]
  },
  {
   "cell_type": "code",
   "execution_count": null,
   "id": "47c0dbe8-1f68-42d0-be8e-d61d44cb524d",
   "metadata": {},
   "outputs": [],
   "source": [
    "df.to_csv(\"final_dataset.csv\", index=False)"
   ]
  }
 ],
 "metadata": {
  "kernelspec": {
   "display_name": "Python 3 (ipykernel)",
   "language": "python",
   "name": "python3"
  },
  "language_info": {
   "codemirror_mode": {
    "name": "ipython",
    "version": 3
   },
   "file_extension": ".py",
   "mimetype": "text/x-python",
   "name": "python",
   "nbconvert_exporter": "python",
   "pygments_lexer": "ipython3",
   "version": "3.10.12"
  }
 },
 "nbformat": 4,
 "nbformat_minor": 5
}
